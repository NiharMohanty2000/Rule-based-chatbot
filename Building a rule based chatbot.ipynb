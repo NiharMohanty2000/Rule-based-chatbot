{
 "cells": [
  {
   "cell_type": "code",
   "execution_count": 7,
   "metadata": {},
   "outputs": [],
   "source": [
    "import nltk\n",
    "from nltk.chat.util import Chat, reflections"
   ]
  },
  {
   "cell_type": "code",
   "execution_count": 8,
   "metadata": {},
   "outputs": [
    {
     "name": "stdout",
     "output_type": "stream",
     "text": [
      "<class 'nltk.chat.util.Chat'> {'i am': 'you are', 'i was': 'you were', 'i': 'you', \"i'm\": 'you are', \"i'd\": 'you would', \"i've\": 'you have', \"i'll\": 'you will', 'my': 'your', 'you are': 'I am', 'you were': 'I was', \"you've\": 'I have', \"you'll\": 'I will', 'your': 'my', 'yours': 'mine', 'you': 'me', 'me': 'you'}\n"
     ]
    }
   ],
   "source": [
    "print(Chat,reflections)"
   ]
  },
  {
   "cell_type": "code",
   "execution_count": 9,
   "metadata": {},
   "outputs": [],
   "source": [
    "set_pairs= [\n",
    "    [\n",
    "      r\"my name is (.*)\",\n",
    "        [\"Hello %1, How are you today\",]\n",
    "    ],\n",
    "    [\n",
    "        r\"hi|hey|hello\",\n",
    "        [\"Hello\",\"Hey there\",]\n",
    "    ],\n",
    "    [\n",
    "        r\"what is your name\",\n",
    "        [\"You can call me a chatbot?\",]\n",
    "    ],\n",
    "    [\n",
    "        r\"How are you?\",\n",
    "        [\"I am fine, thank you| How can I help you?\",]\n",
    "    ],\n",
    "    [\n",
    "        r\"I am fine,Thank you\",\n",
    "        [\"great to hear that, how can i help you\",]\n",
    "    ],\n",
    "    [\n",
    "        r\"How can I help you?\",\n",
    "        [\"I am looking for online guides and courses for DataScience. Can you suggest some? \",]\n",
    "    ],\n",
    "    [\n",
    "        r\"I am (.*) doing good\",\n",
    "        [\"Thats great to hear. How can I help you?\",]\n",
    "    ],\n",
    "    [\n",
    "        r\"I am looking for online guides and courses for DataScience. Can you suggest some?\",\n",
    "        [\"Coding Blocks is a great option to learn datascience. You can check their website for more informantion\",]\n",
    "    ],\n",
    "    [\n",
    "        r\"Thanks for your suggestions. Do they have great authors and instructorr?\",\n",
    "        [\"Yes, they have world class authors. That is their primary strengh\",]\n",
    "    ],\n",
    "    [\n",
    "        r\"(.*) thank you so much, that was very helpful\",\n",
    "        [\"I'm happy to help you out. No problem, you're welcome\",]\n",
    "    ],\n",
    "    [\n",
    "        r\"quit\",\n",
    "        [\"Bye, take care. See you soon!!\"]\n",
    "    ],\n",
    "    \n",
    "]"
   ]
  },
  {
   "cell_type": "code",
   "execution_count": 10,
   "metadata": {},
   "outputs": [
    {
     "name": "stdout",
     "output_type": "stream",
     "text": [
      "Hi, I am a rule-based chatbot. Whatcan I help you with?\n"
     ]
    }
   ],
   "source": [
    "def chatbot():\n",
    "    print(\"Hi, I am a rule-based chatbot. Whatcan I help you with?\")\n",
    "    \n",
    "chatbot()"
   ]
  },
  {
   "cell_type": "code",
   "execution_count": 12,
   "metadata": {},
   "outputs": [
    {
     "name": "stdout",
     "output_type": "stream",
     "text": [
      "<nltk.chat.util.Chat object at 0x0000023D3FA65208>\n"
     ]
    }
   ],
   "source": [
    "chat = Chat(set_pairs, reflections)\n",
    "print(chat)\n"
   ]
  },
  {
   "cell_type": "code",
   "execution_count": 13,
   "metadata": {},
   "outputs": [
    {
     "name": "stdout",
     "output_type": "stream",
     "text": [
      ">Hi\n",
      "Hello\n",
      ">My name is Nihar\n",
      "Hello nihar, How are you today\n",
      ">quit\n",
      "Bye, take care. See you soon!!\n",
      "Hi, I am a rule-based chatbot. Whatcan I help you with?\n"
     ]
    }
   ],
   "source": [
    "chat.converse()\n",
    "if __name__ == \"__main__\":\n",
    "    chatbot()"
   ]
  },
  {
   "cell_type": "code",
   "execution_count": null,
   "metadata": {},
   "outputs": [],
   "source": []
  }
 ],
 "metadata": {
  "kernelspec": {
   "display_name": "Python 3",
   "language": "python",
   "name": "python3"
  },
  "language_info": {
   "codemirror_mode": {
    "name": "ipython",
    "version": 3
   },
   "file_extension": ".py",
   "mimetype": "text/x-python",
   "name": "python",
   "nbconvert_exporter": "python",
   "pygments_lexer": "ipython3",
   "version": "3.7.6"
  }
 },
 "nbformat": 4,
 "nbformat_minor": 4
}
